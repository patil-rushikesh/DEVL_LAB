{
 "cells": [
  {
   "cell_type": "code",
   "execution_count": 8,
   "id": "3da65488",
   "metadata": {},
   "outputs": [
    {
     "name": "stdout",
     "output_type": "stream",
     "text": [
      "1.24.4\n"
     ]
    }
   ],
   "source": [
    "#verification of NUMPY\n",
    "import numpy as np\n",
    "print(np.__version__)"
   ]
  },
  {
   "cell_type": "code",
   "execution_count": 1,
   "id": "ce6e8228",
   "metadata": {},
   "outputs": [
    {
     "name": "stdout",
     "output_type": "stream",
     "text": [
      "[1 2 3 4 5]\n",
      "<class 'numpy.ndarray'>\n"
     ]
    }
   ],
   "source": [
    "#Creating Numpy Array\n",
    "\n",
    "arr = np.array([1, 2, 3, 4, 5])\n",
    "print(arr)\n",
    "\n",
    "print(type(arr))"
   ]
  },
  {
   "cell_type": "code",
   "execution_count": 2,
   "id": "0d5a6117",
   "metadata": {},
   "outputs": [
    {
     "name": "stdout",
     "output_type": "stream",
     "text": [
      "0\n",
      "1\n",
      "2\n",
      "3\n"
     ]
    }
   ],
   "source": [
    "#Multi Dimension\n",
    "dimen_0 = np.array(42)\n",
    "print(dimen_0.ndim)\n",
    "\n",
    "dimen_1 = np.array([1, 2, 3, 4, 5])\n",
    "print(dimen_1.ndim)\n",
    "\n",
    "dimen_2 = np.array([[1, 2, 3], [4, 5, 6]])\n",
    "print(dimen_2.ndim)\n",
    "\n",
    "dimen_3 = np.array([[[1, 2, 3], [4, 5, 6]], [[1, 2, 3], [4, 5, 6]]])\n",
    "print(dimen_3.ndim)\n"
   ]
  },
  {
   "cell_type": "code",
   "execution_count": 4,
   "id": "50c8d224",
   "metadata": {},
   "outputs": [
    {
     "name": "stdout",
     "output_type": "stream",
     "text": [
      "<U6\n",
      "int64\n",
      "[b'1' b'2' b'3' b'4']\n",
      "|S1\n",
      "[1 2 3]\n",
      "int32\n"
     ]
    }
   ],
   "source": [
    "#data type\n",
    "\n",
    "arr1 = np.array(['apple', 'banana', 'cherry'])\n",
    "print(arr1.dtype)\n",
    "\n",
    "arr2 = np.array([1,2,3,4])\n",
    "print(arr2.dtype)\n",
    "\n",
    "#Create an array with data type string\n",
    "arr = np.array([1, 2, 3, 4], dtype='S')\n",
    "print(arr)\n",
    "print(arr.dtype)\n",
    "\n",
    "#Converting Data Type on Existing Arrays\n",
    "arr = np.array([1.1, 2.1, 3.1])\n",
    "newarr = arr.astype('i')\n",
    "print(newarr)\n",
    "print(newarr.dtype)"
   ]
  },
  {
   "cell_type": "code",
   "execution_count": 6,
   "id": "859224eb",
   "metadata": {},
   "outputs": [
    {
     "name": "stdout",
     "output_type": "stream",
     "text": [
      "[42  2  3  4  5]\n",
      "[1 2 3 4 5]\n",
      "[42  2  3  4  5]\n",
      "[42  2  3  4  5]\n"
     ]
    }
   ],
   "source": [
    "#copy and view\n",
    "\n",
    "#COPY\n",
    "arr = np.array([1, 2, 3, 4, 5])\n",
    "x = arr.copy()\n",
    "arr[0] = 42\n",
    "print(arr)\n",
    "print(x)\n",
    "print('\\n')\n",
    "\n",
    "#VIEW\n",
    "arr = np.array([1, 2, 3, 4, 5])\n",
    "x = arr.view()\n",
    "arr[0] = 42\n",
    "print(arr)\n",
    "print(x)\n",
    "print('\\n')\n",
    "\n",
    "#BASE\n",
    "#The base  attribute refers to the original object.\n",
    "arr = np.array([1, 2, 3, 4, 5])\n",
    "A = arr.copy()\n",
    "B = arr.view()\n",
    "print(A.base)\n",
    "print(B.base)"
   ]
  },
  {
   "cell_type": "code",
   "execution_count": 7,
   "id": "667e4699",
   "metadata": {},
   "outputs": [
    {
     "name": "stdout",
     "output_type": "stream",
     "text": [
      "[[[[[1 2 3 4]]]]]\n",
      "shape of array : (1, 1, 1, 1, 4)\n"
     ]
    }
   ],
   "source": [
    "#SHAPE OF ARRAY\n",
    "arr = np.array([1, 2, 3, 4], ndmin=5)\n",
    "\n",
    "print(arr)\n",
    "print('shape of array :', arr.shape)"
   ]
  },
  {
   "cell_type": "code",
   "execution_count": 11,
   "id": "05838940",
   "metadata": {},
   "outputs": [
    {
     "name": "stdout",
     "output_type": "stream",
     "text": [
      "[[ 1  2  3]\n",
      " [ 4  5  6]\n",
      " [ 7  8  9]\n",
      " [10 11 12]]\n",
      "[[[ 1  2  3]\n",
      "  [ 4  5  6]]\n",
      "\n",
      " [[ 7  8  9]\n",
      "  [10 11 12]]]\n",
      "[ 1  2  3  4  5  6  7  8  9 10 11 12]\n"
     ]
    }
   ],
   "source": [
    "#RESHAPE ARRAY\n",
    "arr = np.array([1, 2, 3, 4, 5, 6, 7, 8, 9, 10, 11, 12])\n",
    "\n",
    "##4 rows and 2 cols\n",
    "newarr = arr.reshape(4, 3)\n",
    "print(newarr)\n",
    "print('\\n')\n",
    "\n",
    "#1D array with 12 elements to 3D array with 2x2 elements\n",
    "newarr = arr.reshape(2, 2, -1)\n",
    "print(newarr)\n",
    "print('\\n')\n",
    "\n",
    "#converting to 1D array\n",
    "newarr = arr.reshape(-1)\n",
    "print(newarr)\n"
   ]
  },
  {
   "cell_type": "code",
   "execution_count": 34,
   "id": "f9b33280",
   "metadata": {},
   "outputs": [
    {
     "name": "stdout",
     "output_type": "stream",
     "text": [
      "1\n",
      "2\n",
      "3\n",
      "4\n",
      "5\n",
      "6\n",
      "7\n",
      "8\n",
      "9\n",
      "10\n",
      "11\n",
      "12\n",
      "\n",
      "\n",
      "1\n",
      "2\n",
      "3\n",
      "4\n",
      "5\n",
      "6\n",
      "7\n",
      "8\n",
      "\n",
      "\n",
      "b'1'\n",
      "b'2'\n",
      "b'3'\n",
      "b'4'\n",
      "b'5'\n",
      "b'6'\n",
      "b'7'\n",
      "b'8'\n"
     ]
    }
   ],
   "source": [
    "#iterating using For Loop\n",
    "arr = np.array([[[1, 2, 3], [4, 5, 6]], [[7, 8, 9], [10, 11, 12]]])\n",
    "\n",
    "for x in arr:\n",
    "  for y in x:\n",
    "    for z in y:\n",
    "      print(z)\n",
    "print('\\n')\n",
    "\n",
    "#iteratinmg using nditer\n",
    "arr = np.array([[[1, 2], [3, 4]], [[5, 6], [7, 8]]])\n",
    "for x in np.nditer(arr):\n",
    "  print(x)\n",
    "print('\\n')\n",
    "\n",
    "#more parameters of nditer\n",
    "for x in np.nditer(arr,flags=['buffered'],op_dtypes=['S']):\n",
    "    #prints with byte as prefix it means it is byte encoded\n",
    "    #op_dtypes specifies the data types that you want the iterator to operate \n",
    "  print(x)"
   ]
  },
  {
   "cell_type": "code",
   "execution_count": 30,
   "id": "fb3eca40",
   "metadata": {},
   "outputs": [
    {
     "name": "stdout",
     "output_type": "stream",
     "text": [
      "[1 2 3 4 5 6]\n",
      "\n",
      "\n",
      "[[1 2 5 6]\n",
      " [3 4 7 8]]\n",
      "\n",
      "\n",
      "[[1 4]\n",
      " [2 5]\n",
      " [3 6]]\n",
      "\n",
      "\n",
      "[1 2 3 4 5 6]\n",
      "\n",
      "\n",
      "[[1 2 3]\n",
      " [4 5 6]]\n",
      "\n",
      "\n",
      "[[[1 4]\n",
      "  [2 5]\n",
      "  [3 6]]]\n"
     ]
    }
   ],
   "source": [
    "#join\n",
    "\n",
    "#Join two 2-D arrays\n",
    "arr1 = np.array([1, 2, 3])\n",
    "arr2 = np.array([4, 5, 6])\n",
    "arr = np.concatenate((arr1, arr2))\n",
    "print(arr)\n",
    "print('\\n')\n",
    "\n",
    "#Join two 2-D arrays along rows\n",
    "arr1 = np.array([[1, 2], [3, 4]])\n",
    "arr2 = np.array([[5, 6], [7, 8]])\n",
    "arr = np.concatenate((arr1, arr2), axis=1)\n",
    "print(arr)\n",
    "print('\\n')\n",
    "\n",
    "#Joining Arrays Using Stack\n",
    "arr1 = np.array([1, 2, 3])\n",
    "arr2 = np.array([4, 5, 6])\n",
    "arr = np.stack((arr1, arr2), axis=1)\n",
    "print(arr)\n",
    "print('\\n')\n",
    "\n",
    "#Stacking Along Rows\n",
    "arr1 = np.array([1, 2, 3])\n",
    "arr2 = np.array([4, 5, 6])\n",
    "arr = np.hstack((arr1, arr2))\n",
    "print(arr)\n",
    "print('\\n')\n",
    "\n",
    "#Stacking Along Columns\n",
    "arr1 = np.array([1, 2, 3])\n",
    "arr2 = np.array([4, 5, 6])\n",
    "arr = np.vstack((arr1, arr2))\n",
    "print(arr)\n",
    "print('\\n')\n",
    "\n",
    "#Stacking Along Height (depth)\n",
    "arr1 = np.array([1, 2, 3])\n",
    "arr2 = np.array([4, 5, 6])\n",
    "arr = np.dstack((arr1, arr2))\n",
    "print(arr)\n"
   ]
  },
  {
   "cell_type": "code",
   "execution_count": 33,
   "id": "d5239cd5",
   "metadata": {},
   "outputs": [
    {
     "name": "stdout",
     "output_type": "stream",
     "text": [
      "[array([1, 2]), array([3, 4]), array([5]), array([6])]\n",
      "\n",
      "\n",
      "[array([[1, 2, 3],\n",
      "       [4, 5, 6]]), array([[ 7,  8,  9],\n",
      "       [10, 11, 12]]), array([[13, 14, 15],\n",
      "       [16, 17, 18]])]\n",
      "\n",
      "\n",
      "[array([[ 1],\n",
      "       [ 4],\n",
      "       [ 7],\n",
      "       [10],\n",
      "       [13],\n",
      "       [16]]), array([[ 2],\n",
      "       [ 5],\n",
      "       [ 8],\n",
      "       [11],\n",
      "       [14],\n",
      "       [17]]), array([[ 3],\n",
      "       [ 6],\n",
      "       [ 9],\n",
      "       [12],\n",
      "       [15],\n",
      "       [18]])]\n",
      "\n",
      "\n",
      "[array([[ 1],\n",
      "       [ 4],\n",
      "       [ 7],\n",
      "       [10],\n",
      "       [13],\n",
      "       [16]]), array([[ 2],\n",
      "       [ 5],\n",
      "       [ 8],\n",
      "       [11],\n",
      "       [14],\n",
      "       [17]]), array([[ 3],\n",
      "       [ 6],\n",
      "       [ 9],\n",
      "       [12],\n",
      "       [15],\n",
      "       [18]])]\n"
     ]
    }
   ],
   "source": [
    "#Split\n",
    "\n",
    "arr = np.array([1, 2, 3, 4, 5, 6])\n",
    "#splits array in 4 parts\n",
    "newarr = np.array_split(arr, 4)\n",
    "print(newarr)\n",
    "print('\\n')\n",
    "\n",
    "arr = np.array([[1, 2, 3], [4, 5, 6], [7, 8, 9], [10, 11, 12], [13, 14, 15], [16, 17, 18]])\n",
    "#splits in 3 parts\n",
    "newarr = np.array_split(arr, 3)\n",
    "print(newarr)\n",
    "print('\\n')\n",
    "\n",
    "arr = np.array([[1, 2, 3], [4, 5, 6], [7, 8, 9], [10, 11, 12], [13, 14, 15], [16, 17, 18]])\n",
    "#the 2-D array into three 2-D arrays along rows using axis.\n",
    "newarr = np.array_split(arr, 3, axis=1)\n",
    "print(newarr)\n",
    "print('\\n')\n",
    "\n",
    "arr = np.array([[1, 2, 3], [4, 5, 6], [7, 8, 9], [10, 11, 12], [13, 14, 15], [16, 17, 18]])\n",
    "#the 2-D array into three 2-D arrays along rows using hsplit.\n",
    "newarr = np.hsplit(arr, 3)\n",
    "print(newarr)\n"
   ]
  },
  {
   "cell_type": "code",
   "execution_count": 35,
   "id": "28c66d2d",
   "metadata": {},
   "outputs": [
    {
     "name": "stdout",
     "output_type": "stream",
     "text": [
      "(array([3, 5, 6]),)\n",
      "\n",
      "\n",
      "(array([1, 3, 5, 7]),)\n",
      "\n",
      "\n",
      "1\n",
      "\n",
      "\n",
      "2\n",
      "\n",
      "\n",
      "[1 2 3]\n"
     ]
    }
   ],
   "source": [
    "#Search\n",
    "\n",
    "arr = np.array([1, 2, 3, 4, 5, 4, 4])\n",
    "#The indexes where the value is 4\n",
    "x = np.where(arr == 4)\n",
    "print(x)\n",
    "print('\\n')\n",
    "\n",
    "arr = np.array([1, 2, 3, 4, 5, 6, 7, 8])\n",
    "#The indexes where the values are even\n",
    "x = np.where(arr%2 == 0)\n",
    "print(x)\n",
    "print('\\n')\n",
    "\n",
    "arr = np.array([6, 7, 8, 9])\n",
    "#The indexes where the value 7 should be inserted\n",
    "x = np.searchsorted(arr, 7)\n",
    "print(x)\n",
    "print('\\n')\n",
    "\n",
    "arr = np.array([6, 7, 8, 9])\n",
    "#The indexes where the value 7 should be inserted, starting from the right\n",
    "x = np.searchsorted(arr, 7, side='right')\n",
    "print(x)\n",
    "print('\\n')\n",
    "\n",
    "arr = np.array([1, 3, 5, 7])\n",
    "#The indexes where the values 2, 4, and 6 should be inserted\n",
    "x = np.searchsorted(arr, [2, 4, 6])\n",
    "print(x)\n"
   ]
  },
  {
   "cell_type": "code",
   "execution_count": 36,
   "id": "381bf313",
   "metadata": {},
   "outputs": [
    {
     "name": "stdout",
     "output_type": "stream",
     "text": [
      "['apple' 'banana' 'cherry']\n"
     ]
    }
   ],
   "source": [
    "#Sorting\n",
    "arr = np.array(['banana', 'cherry', 'apple'])\n",
    "print(np.sort(arr))"
   ]
  },
  {
   "cell_type": "code",
   "execution_count": 37,
   "id": "582799d0",
   "metadata": {},
   "outputs": [
    {
     "name": "stdout",
     "output_type": "stream",
     "text": [
      "[41 43]\n"
     ]
    }
   ],
   "source": [
    "#filter\n",
    "arr = np.array([41, 42, 43, 44])\n",
    "x = [True, False, True, False]\n",
    "newarr = arr[x]\n",
    "print(newarr)"
   ]
  },
  {
   "cell_type": "code",
   "execution_count": null,
   "id": "5944c623",
   "metadata": {},
   "outputs": [],
   "source": []
  }
 ],
 "metadata": {
  "kernelspec": {
   "display_name": "Python 3 (ipykernel)",
   "language": "python",
   "name": "python3"
  },
  "language_info": {
   "codemirror_mode": {
    "name": "ipython",
    "version": 3
   },
   "file_extension": ".py",
   "mimetype": "text/x-python",
   "name": "python",
   "nbconvert_exporter": "python",
   "pygments_lexer": "ipython3",
   "version": "3.8.10"
  }
 },
 "nbformat": 4,
 "nbformat_minor": 5
}
