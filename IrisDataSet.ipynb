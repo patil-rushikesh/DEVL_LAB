{
 "cells": [
  {
   "cell_type": "code",
   "execution_count": 1,
   "id": "9006c760",
   "metadata": {},
   "outputs": [],
   "source": [
    "import pandas as pd"
   ]
  },
  {
   "cell_type": "code",
   "execution_count": 3,
   "id": "409f095d",
   "metadata": {},
   "outputs": [
    {
     "name": "stdout",
     "output_type": "stream",
     "text": [
      "2.0.3\n"
     ]
    }
   ],
   "source": [
    "print(pd.__version__)"
   ]
  },
  {
   "cell_type": "code",
   "execution_count": 4,
   "id": "2f311125",
   "metadata": {},
   "outputs": [],
   "source": [
    "df = pd.read_csv('iris.csv')"
   ]
  },
  {
   "cell_type": "code",
   "execution_count": 5,
   "id": "326f71fa",
   "metadata": {},
   "outputs": [
    {
     "name": "stdout",
     "output_type": "stream",
     "text": [
      "     sepal_length  sepal_width  petal_length  petal_width    species\n",
      "0             5.1          3.5           1.4          0.2     setosa\n",
      "1             4.9          3.0           1.4          0.2     setosa\n",
      "2             4.7          3.2           1.3          0.2     setosa\n",
      "3             4.6          3.1           1.5          0.2     setosa\n",
      "4             5.0          3.6           1.4          0.2     setosa\n",
      "..            ...          ...           ...          ...        ...\n",
      "145           6.7          3.0           5.2          2.3  virginica\n",
      "146           6.3          2.5           5.0          1.9  virginica\n",
      "147           6.5          3.0           5.2          2.0  virginica\n",
      "148           6.2          3.4           5.4          2.3  virginica\n",
      "149           5.9          3.0           5.1          1.8  virginica\n",
      "\n",
      "[150 rows x 5 columns]\n"
     ]
    }
   ],
   "source": [
    "print(df)"
   ]
  },
  {
   "cell_type": "code",
   "execution_count": 6,
   "id": "ef1f8d6d",
   "metadata": {},
   "outputs": [
    {
     "name": "stdout",
     "output_type": "stream",
     "text": [
      "<class 'pandas.core.frame.DataFrame'>\n",
      "RangeIndex: 150 entries, 0 to 149\n",
      "Data columns (total 5 columns):\n",
      " #   Column        Non-Null Count  Dtype  \n",
      "---  ------        --------------  -----  \n",
      " 0   sepal_length  150 non-null    float64\n",
      " 1   sepal_width   150 non-null    float64\n",
      " 2   petal_length  150 non-null    float64\n",
      " 3   petal_width   150 non-null    float64\n",
      " 4   species       150 non-null    object \n",
      "dtypes: float64(4), object(1)\n",
      "memory usage: 6.0+ KB\n",
      "None\n"
     ]
    }
   ],
   "source": [
    "print(df.info())"
   ]
  },
  {
   "cell_type": "code",
   "execution_count": 7,
   "id": "d49eddfb",
   "metadata": {
    "scrolled": false
   },
   "outputs": [
    {
     "name": "stdout",
     "output_type": "stream",
     "text": [
      "     sepal_length  sepal_width  petal_length  petal_width     species\n",
      "0             5.1          3.5           1.4          0.2      setosa\n",
      "1             4.9          3.0           1.4          0.2      setosa\n",
      "2             4.7          3.2           1.3          0.2      setosa\n",
      "3             4.6          3.1           1.5          0.2      setosa\n",
      "4             5.0          3.6           1.4          0.2      setosa\n",
      "5             5.4          3.9           1.7          0.4      setosa\n",
      "6             4.6          3.4           1.4          0.3      setosa\n",
      "7             5.0          3.4           1.5          0.2      setosa\n",
      "8             4.4          2.9           1.4          0.2      setosa\n",
      "9             4.9          3.1           1.5          0.1      setosa\n",
      "10            5.4          3.7           1.5          0.2      setosa\n",
      "11            4.8          3.4           1.6          0.2      setosa\n",
      "12            4.8          3.0           1.4          0.1      setosa\n",
      "13            4.3          3.0           1.1          0.1      setosa\n",
      "14            5.8          4.0           1.2          0.2      setosa\n",
      "15            5.7          4.4           1.5          0.4      setosa\n",
      "16            5.4          3.9           1.3          0.4      setosa\n",
      "17            5.1          3.5           1.4          0.3      setosa\n",
      "18            5.7          3.8           1.7          0.3      setosa\n",
      "19            5.1          3.8           1.5          0.3      setosa\n",
      "20            5.4          3.4           1.7          0.2      setosa\n",
      "21            5.1          3.7           1.5          0.4      setosa\n",
      "22            4.6          3.6           1.0          0.2      setosa\n",
      "23            5.1          3.3           1.7          0.5      setosa\n",
      "24            4.8          3.4           1.9          0.2      setosa\n",
      "25            5.0          3.0           1.6          0.2      setosa\n",
      "26            5.0          3.4           1.6          0.4      setosa\n",
      "27            5.2          3.5           1.5          0.2      setosa\n",
      "28            5.2          3.4           1.4          0.2      setosa\n",
      "29            4.7          3.2           1.6          0.2      setosa\n",
      "30            4.8          3.1           1.6          0.2      setosa\n",
      "31            5.4          3.4           1.5          0.4      setosa\n",
      "32            5.2          4.1           1.5          0.1      setosa\n",
      "33            5.5          4.2           1.4          0.2      setosa\n",
      "34            4.9          3.1           1.5          0.1      setosa\n",
      "35            5.0          3.2           1.2          0.2      setosa\n",
      "36            5.5          3.5           1.3          0.2      setosa\n",
      "37            4.9          3.1           1.5          0.1      setosa\n",
      "38            4.4          3.0           1.3          0.2      setosa\n",
      "39            5.1          3.4           1.5          0.2      setosa\n",
      "40            5.0          3.5           1.3          0.3      setosa\n",
      "41            4.5          2.3           1.3          0.3      setosa\n",
      "42            4.4          3.2           1.3          0.2      setosa\n",
      "43            5.0          3.5           1.6          0.6      setosa\n",
      "44            5.1          3.8           1.9          0.4      setosa\n",
      "45            4.8          3.0           1.4          0.3      setosa\n",
      "46            5.1          3.8           1.6          0.2      setosa\n",
      "47            4.6          3.2           1.4          0.2      setosa\n",
      "48            5.3          3.7           1.5          0.2      setosa\n",
      "49            5.0          3.3           1.4          0.2      setosa\n",
      "50            7.0          3.2           4.7          1.4  versicolor\n",
      "51            6.4          3.2           4.5          1.5  versicolor\n",
      "52            6.9          3.1           4.9          1.5  versicolor\n",
      "53            5.5          2.3           4.0          1.3  versicolor\n",
      "54            6.5          2.8           4.6          1.5  versicolor\n",
      "55            5.7          2.8           4.5          1.3  versicolor\n",
      "56            6.3          3.3           4.7          1.6  versicolor\n",
      "57            4.9          2.4           3.3          1.0  versicolor\n",
      "58            6.6          2.9           4.6          1.3  versicolor\n",
      "59            5.2          2.7           3.9          1.4  versicolor\n",
      "60            5.0          2.0           3.5          1.0  versicolor\n",
      "61            5.9          3.0           4.2          1.5  versicolor\n",
      "62            6.0          2.2           4.0          1.0  versicolor\n",
      "63            6.1          2.9           4.7          1.4  versicolor\n",
      "64            5.6          2.9           3.6          1.3  versicolor\n",
      "65            6.7          3.1           4.4          1.4  versicolor\n",
      "66            5.6          3.0           4.5          1.5  versicolor\n",
      "67            5.8          2.7           4.1          1.0  versicolor\n",
      "68            6.2          2.2           4.5          1.5  versicolor\n",
      "69            5.6          2.5           3.9          1.1  versicolor\n",
      "70            5.9          3.2           4.8          1.8  versicolor\n",
      "71            6.1          2.8           4.0          1.3  versicolor\n",
      "72            6.3          2.5           4.9          1.5  versicolor\n",
      "73            6.1          2.8           4.7          1.2  versicolor\n",
      "74            6.4          2.9           4.3          1.3  versicolor\n",
      "75            6.6          3.0           4.4          1.4  versicolor\n",
      "76            6.8          2.8           4.8          1.4  versicolor\n",
      "77            6.7          3.0           5.0          1.7  versicolor\n",
      "78            6.0          2.9           4.5          1.5  versicolor\n",
      "79            5.7          2.6           3.5          1.0  versicolor\n",
      "80            5.5          2.4           3.8          1.1  versicolor\n",
      "81            5.5          2.4           3.7          1.0  versicolor\n",
      "82            5.8          2.7           3.9          1.2  versicolor\n",
      "83            6.0          2.7           5.1          1.6  versicolor\n",
      "84            5.4          3.0           4.5          1.5  versicolor\n",
      "85            6.0          3.4           4.5          1.6  versicolor\n",
      "86            6.7          3.1           4.7          1.5  versicolor\n",
      "87            6.3          2.3           4.4          1.3  versicolor\n",
      "88            5.6          3.0           4.1          1.3  versicolor\n",
      "89            5.5          2.5           4.0          1.3  versicolor\n",
      "90            5.5          2.6           4.4          1.2  versicolor\n",
      "91            6.1          3.0           4.6          1.4  versicolor\n",
      "92            5.8          2.6           4.0          1.2  versicolor\n",
      "93            5.0          2.3           3.3          1.0  versicolor\n",
      "94            5.6          2.7           4.2          1.3  versicolor\n",
      "95            5.7          3.0           4.2          1.2  versicolor\n",
      "96            5.7          2.9           4.2          1.3  versicolor\n",
      "97            6.2          2.9           4.3          1.3  versicolor\n",
      "98            5.1          2.5           3.0          1.1  versicolor\n",
      "99            5.7          2.8           4.1          1.3  versicolor\n",
      "100           6.3          3.3           6.0          2.5   virginica\n",
      "101           5.8          2.7           5.1          1.9   virginica\n",
      "102           7.1          3.0           5.9          2.1   virginica\n",
      "103           6.3          2.9           5.6          1.8   virginica\n",
      "104           6.5          3.0           5.8          2.2   virginica\n",
      "105           7.6          3.0           6.6          2.1   virginica\n",
      "106           4.9          2.5           4.5          1.7   virginica\n",
      "107           7.3          2.9           6.3          1.8   virginica\n",
      "108           6.7          2.5           5.8          1.8   virginica\n",
      "109           7.2          3.6           6.1          2.5   virginica\n",
      "110           6.5          3.2           5.1          2.0   virginica\n",
      "111           6.4          2.7           5.3          1.9   virginica\n",
      "112           6.8          3.0           5.5          2.1   virginica\n",
      "113           5.7          2.5           5.0          2.0   virginica\n",
      "114           5.8          2.8           5.1          2.4   virginica\n",
      "115           6.4          3.2           5.3          2.3   virginica\n",
      "116           6.5          3.0           5.5          1.8   virginica\n",
      "117           7.7          3.8           6.7          2.2   virginica\n",
      "118           7.7          2.6           6.9          2.3   virginica\n",
      "119           6.0          2.2           5.0          1.5   virginica\n",
      "120           6.9          3.2           5.7          2.3   virginica\n",
      "121           5.6          2.8           4.9          2.0   virginica\n",
      "122           7.7          2.8           6.7          2.0   virginica\n",
      "123           6.3          2.7           4.9          1.8   virginica\n",
      "124           6.7          3.3           5.7          2.1   virginica\n",
      "125           7.2          3.2           6.0          1.8   virginica\n",
      "126           6.2          2.8           4.8          1.8   virginica\n",
      "127           6.1          3.0           4.9          1.8   virginica\n",
      "128           6.4          2.8           5.6          2.1   virginica\n",
      "129           7.2          3.0           5.8          1.6   virginica\n",
      "130           7.4          2.8           6.1          1.9   virginica\n",
      "131           7.9          3.8           6.4          2.0   virginica\n",
      "132           6.4          2.8           5.6          2.2   virginica\n",
      "133           6.3          2.8           5.1          1.5   virginica\n",
      "134           6.1          2.6           5.6          1.4   virginica\n",
      "135           7.7          3.0           6.1          2.3   virginica\n",
      "136           6.3          3.4           5.6          2.4   virginica\n",
      "137           6.4          3.1           5.5          1.8   virginica\n",
      "138           6.0          3.0           4.8          1.8   virginica\n",
      "139           6.9          3.1           5.4          2.1   virginica\n",
      "140           6.7          3.1           5.6          2.4   virginica\n",
      "141           6.9          3.1           5.1          2.3   virginica\n",
      "142           5.8          2.7           5.1          1.9   virginica\n",
      "143           6.8          3.2           5.9          2.3   virginica\n",
      "144           6.7          3.3           5.7          2.5   virginica\n",
      "145           6.7          3.0           5.2          2.3   virginica\n",
      "146           6.3          2.5           5.0          1.9   virginica\n",
      "147           6.5          3.0           5.2          2.0   virginica\n",
      "148           6.2          3.4           5.4          2.3   virginica\n",
      "149           5.9          3.0           5.1          1.8   virginica\n"
     ]
    }
   ],
   "source": [
    "clean_df = df.dropna()\n",
    "print(clean_df.to_string())"
   ]
  },
  {
   "cell_type": "code",
   "execution_count": 13,
   "id": "4d17fc00",
   "metadata": {
    "scrolled": true
   },
   "outputs": [
    {
     "name": "stdout",
     "output_type": "stream",
     "text": [
      "       sepal_length  sepal_width  petal_length  petal_width species\n",
      "index                                                              \n",
      "5               5.4          3.9           1.7          0.4  setosa\n",
      "6               4.6          3.4           1.4          0.3  setosa\n",
      "7               5.0          3.4           1.5          0.2  setosa\n",
      "       sepal_length  sepal_width  petal_length  petal_width species\n",
      "index                                                              \n",
      "A               5.4          3.9           1.7          0.4  setosa\n",
      "B               4.6          3.4           1.4          0.3  setosa\n",
      "C               5.0          3.4           1.5          0.2  setosa\n"
     ]
    }
   ],
   "source": [
    "new2 = pd.DataFrame(df, index=pd.RangeIndex(5,8,name='index'))\n",
    "print(new2)\n",
    "renamed_data = new2.rename(index = {5:'A', 6:'B', 7:'C'})\n",
    "print(renamed_data)"
   ]
  },
  {
   "cell_type": "code",
   "execution_count": 12,
   "id": "b433d92a",
   "metadata": {},
   "outputs": [],
   "source": [
    "df.to_json('iris.json')"
   ]
  }
 ],
 "metadata": {
  "kernelspec": {
   "display_name": "Python 3 (ipykernel)",
   "language": "python",
   "name": "python3"
  },
  "language_info": {
   "codemirror_mode": {
    "name": "ipython",
    "version": 3
   },
   "file_extension": ".py",
   "mimetype": "text/x-python",
   "name": "python",
   "nbconvert_exporter": "python",
   "pygments_lexer": "ipython3",
   "version": "3.8.10"
  },
  "widgets": {
   "application/vnd.jupyter.widget-state+json": {
    "state": {},
    "version_major": 1,
    "version_minor": 0
   }
  }
 },
 "nbformat": 4,
 "nbformat_minor": 5
}
