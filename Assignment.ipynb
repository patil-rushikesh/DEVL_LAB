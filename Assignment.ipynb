def main():
    while(1):
        print('1. Create List\n2. Access Element\n3. Modify Element\n4. Append Element\n5. Insert Element\n6. Remove Element\n7. Pop Element\n8. Delete element\n9. Concatenate Lists\n10. Check Member\n11. Length of List\n12. Slicing\n13. Exit')
        choice = int(input("Enter your choice : "))
        if(choice == 1):
            list1 = []
            list2 = ['apple', 'pineapple', 'custardApple']
            print("list1 and list2 Created!\n\n")
        elif(choice == 2):
            index = int(input("Enter Index : "))
            print(f"The Element at index {index} is {list1[index]}\n\n")
        elif(choice == 3):
            index = int(input("Enter Index : "))
            newElem = input("Enter Element : ")
            list1[index] = newElem
            print("Element Updated!\n")
            print(list1)
        elif(choice == 4):
            newElem = input("Enter Element : ")
            list1.append(newElem)
            print("\n")
            print(list1)
            print("\n")
        elif(choice == 5):
            index = int(input("Enter Index : "))
            newElem = input("Enter Element : ")
            list1.insert(index, newElem)
            print("\n")
            print(list1)
            print("\n")
        elif(choice == 6):
            Elem = input("Enter Element : ")
            list1.remove(Elem)
            print("\n")
            print(list1)
            print("\n")
        elif(choice == 7):
            index = int(input("Enter Index : "))
            list1.pop(index)
            print("\n")
            print(list1)
            print("\n")
        elif(choice == 8):
            index = int(input("Enter Index : "))
            del list1[index]
            print("\n")
            print(list1)
            print("\n")
        elif(choice == 9):
            list3 = list1 + list2
            print("\n")
            print(list3)
            print("\n")
        elif(choice == 10):
            Elem = input("Enter Element : ")
            print("\n")
            print(Elem in list1)
            print("\n")
        elif(choice == 11):
            print("\n")
            print(len(list1))
            print("\n")
        elif(choice == 12):
            start = int(input("Enter Start : "))
            stop = int(input("Enter Stop : "))
            step = int(input("Enter Step : "))
            slicedList = list1[start:stop:step]
            print("\n")
            print(slicedList)
            print("\n")
        elif(choice == 13):
            print("Exiting Program!")
            break
if __name__ == '__main__':
    main()
            
